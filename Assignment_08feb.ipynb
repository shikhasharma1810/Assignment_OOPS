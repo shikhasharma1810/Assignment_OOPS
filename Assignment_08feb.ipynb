{
 "cells": [
  {
   "cell_type": "code",
   "execution_count": null,
   "id": "e4e775e4-a8da-4e7f-a6e1-4113527993c0",
   "metadata": {},
   "outputs": [],
   "source": [
    "'''1. What is Abstraction in OOps? Explain with an example.\n",
    "\n",
    "Abstraction: Abstraction classes are meant to be the blueprint of the other class. It includes hiding the implementation \n",
    "part and showing only the required data and features to the user. It is done to hide the implementation complexity and details\n",
    "from the user to provide a good interface in programming.\n",
    "In Python, abstraction can be achieved by having/using abstract classes and methods in our programs. An abstract method is a\n",
    "method that is declared, but does not contain implementation. The method body comprises just a pass statement.\n",
    "A class containing abstract methods is called abstract class.Python provides the abc module to use the abstraction in the \n",
    "Python program.\n",
    "\n",
    "Example:\n",
    "\n",
    "import abc\n",
    "class data_science:\n",
    "    \n",
    "    @abc.abstractmethod\n",
    "    def stud_details(self):\n",
    "        pass"
   ]
  },
  {
   "cell_type": "code",
   "execution_count": null,
   "id": "6737157c-1b29-4af7-a005-6de9370bad22",
   "metadata": {},
   "outputs": [],
   "source": [
    "'''2. Differentiate between Abstraction and Encapsulation. Explain with an example.\n",
    "\n",
    "Abstraction is a process of hiding the implementation details of a system from the user, and only the functional details will\n",
    "be available to the user end. On the other hand, Encapsulation is a method of wrapping up the data and code acting on the \n",
    "data into a single unit.\n",
    "\n",
    "Example of Abstraction:\n",
    "\n",
    "import abc\n",
    "class data_science:\n",
    "    \n",
    "    @abc.abstractmethod\n",
    "    def stud_details(self):\n",
    "        pass\n",
    "        \n",
    "Example of Encapsulation:\n",
    "\n",
    "class car:\n",
    "    \n",
    "    def __init__(self,year,make,model,speed):\n",
    "        self.__year=year\n",
    "        self.__make=make\n",
    "        self.__model=model\n",
    "        self.__speed=0\n",
    "        \n",
    "     def set_speed(self,speed) :\n",
    "        self.__speed = 0 if speed < 0 else speed\n",
    "          \n",
    "    def get_speed(self) :\n",
    "        return self.__speed"
   ]
  },
  {
   "cell_type": "code",
   "execution_count": null,
   "id": "655b2f86-917f-4361-b921-15252504404c",
   "metadata": {},
   "outputs": [],
   "source": [
    "'''3. What is abc module in python? Why is it used?\n",
    "\n",
    "By default, Python does not provide abstract classes. Python comes with a module that provides the base for defining Abstract\n",
    "Base classes(ABC) and that module name is ABC. ABC works by decorating methods of the base class as abstract and then\n",
    "registering concrete classes as implementations of the abstract base. A method becomes abstract when decorated with the\n",
    "keyword @abstractmethod.\n",
    "\n",
    "Python provides the abc module to use the abstraction in the Python program, syntax as:\n",
    "\n",
    "from abc import ABC,   \n",
    "class ClassName(ABC):"
   ]
  },
  {
   "cell_type": "code",
   "execution_count": null,
   "id": "fc5e0dc4-cd49-4970-942b-96b95211502d",
   "metadata": {},
   "outputs": [],
   "source": [
    "'''4. How can we achieve data abstraction?\n",
    "\n",
    "In Python, abstraction can be achieved by having/using abstract classes and methods in our programs.\n",
    "An abstract method is a method that is declared, but does not contain implementation. An abstract method in a base class \n",
    "identifies the functionality that should be implemented by all its subclasses. However, since the implementation of an \n",
    "abstract method would differ from one subclass to another, often the method body comprises just a pass statement. Every \n",
    "subclass of the base class will ride this method with its implementation. A class containing abstract methods is called \n",
    "abstract class.Python provides the abc module to use the abstraction in the Python program."
   ]
  },
  {
   "cell_type": "code",
   "execution_count": null,
   "id": "515134b0-276e-4ec6-a18f-87e34dde02df",
   "metadata": {},
   "outputs": [],
   "source": [
    "'''5. Can we create an instance of an abstract class? Explain your answer.\n",
    "\n",
    "Abstract classes are not complete, as they may have some methods that are not defined. So we cannot create an instance or \n",
    "object of an abstract class in Python."
   ]
  }
 ],
 "metadata": {
  "kernelspec": {
   "display_name": "Python 3 (ipykernel)",
   "language": "python",
   "name": "python3"
  },
  "language_info": {
   "codemirror_mode": {
    "name": "ipython",
    "version": 3
   },
   "file_extension": ".py",
   "mimetype": "text/x-python",
   "name": "python",
   "nbconvert_exporter": "python",
   "pygments_lexer": "ipython3",
   "version": "3.10.8"
  }
 },
 "nbformat": 4,
 "nbformat_minor": 5
}
